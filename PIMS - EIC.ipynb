{
 "cells": [
  {
   "cell_type": "markdown",
   "metadata": {},
   "source": [
    "# Environmental Instruments Canada\n"
   ]
  },
  {
   "cell_type": "code",
   "execution_count": 1,
   "metadata": {},
   "outputs": [
    {
     "name": "stdout",
     "output_type": "stream",
     "text": [
      "Libraries Loaded\n"
     ]
    }
   ],
   "source": [
    "import numpy as np\n",
    "import numpy.random as rnd\n",
    "import matplotlib as mpl\n",
    "import matplotlib.pyplot as plt\n",
    "from sklearn.linear_model import LinearRegression\n",
    "\n",
    "print(\"Libraries Loaded\")"
   ]
  },
  {
   "cell_type": "markdown",
   "metadata": {},
   "source": [
    "These functions will generate the data and the inputs for the linear regression model. The first function \"expcount\" will take in the number of particles and count the number of decays based off of all the half life arguments added.\n",
    "\n",
    "The second function will calulate all the inputs to the linear regression, these are all the sums/products of the decay coefficents for each progeny."
   ]
  },
  {
   "cell_type": "code",
   "execution_count": 2,
   "metadata": {},
   "outputs": [],
   "source": [
    "def expcount(n, *args):\n",
    "    countlist = np.array([0]*12)\n",
    "    \n",
    "    for _ in range(n):\n",
    "        templist=[int(x)//15 for x in np.cumsum([rnd.exponential(a) for a in args])]\n",
    "        \n",
    "        for j in templist:\n",
    "            if j <12:\n",
    "                countlist[j] = countlist[j]+1\n",
    "    return countlist\n",
    "\n",
    "def get_inputs(*args):\n",
    "    inputs = [0]*12\n",
    "    times = [0,15,30,45,60,75,90,105,120,135,150,165,180]\n",
    "    for i in range(12):\n",
    "        inputs[i] = inputs[i]+(np.exp(-args[0]*times[i])-np.exp(-args[0]*times[i+1]))\n",
    "        progeny_sum = 0\n",
    "        for r in range(len(args)):\n",
    "            tmp=1\n",
    "            for q in range(len(args)):\n",
    "                if q==r:\n",
    "                    continue\n",
    "                tmp *= args[q]/(args[q]-args[r])\n",
    "            progeny_sum = progeny_sum + tmp*(np.exp(-args[r]*times[i])-np.exp(-args[r]*times[i+1]))\n",
    "        inputs[i] = inputs[i]+progeny_sum\n",
    "    return inputs"
   ]
  },
  {
   "cell_type": "markdown",
   "metadata": {},
   "source": [
    "Next these are just the calculations for the decay coefficents"
   ]
  },
  {
   "cell_type": "code",
   "execution_count": 3,
   "metadata": {},
   "outputs": [
    {
     "data": {
      "text/plain": [
       "array([0.0127183 , 4.38700747])"
      ]
     },
     "execution_count": 3,
     "metadata": {},
     "output_type": "execute_result"
    }
   ],
   "source": [
    "LRn222 = 3.825*24*60*60 # the half-life for Rn-222 (in seconds)\n",
    "LPo218 = 3.05*60        # the half-life for Po-218\n",
    "DC1HL = np.array([LRn222,LPo218])\n",
    "DC1Lambda = np.log(2)/DC1HL # the decay constants for this first decay chain in units of 1/s\n",
    "\n",
    "LRn220 = 54.5 # the half-life for Rn-220 (in seconds)\n",
    "LPo216 = 0.158        # the half-life for Po-216\n",
    "DC2HL = np.array([LRn220,LPo216])\n",
    "DC2Lambda = np.log(2)/DC2HL # the decay constants for this first decay chain in units of 1/s"
   ]
  },
  {
   "cell_type": "markdown",
   "metadata": {},
   "source": [
    "From here we can generate some data for our counts of Radon."
   ]
  },
  {
   "cell_type": "code",
   "execution_count": 4,
   "metadata": {},
   "outputs": [
    {
     "data": {
      "text/plain": [
       "array([475, 352, 337, 284, 228, 194, 147, 138, 107,  82,  97,  46])"
      ]
     },
     "execution_count": 4,
     "metadata": {},
     "output_type": "execute_result"
    }
   ],
   "source": [
    "n=10000\n",
    "m=1400\n",
    "counts = expcount(n,1/DC1Lambda) + expcount(m,1/DC2Lambda)\n",
    "counts"
   ]
  },
  {
   "cell_type": "markdown",
   "metadata": {},
   "source": [
    "Using the inputs to the data and the counts, we can generate a linear regression for the model. We see that the coefficient for the Radon 222 is highly inaccurate. The coefficient for the Radon 220 is however a lot closer."
   ]
  },
  {
   "cell_type": "code",
   "execution_count": null,
   "metadata": {},
   "outputs": [],
   "source": [
    "X = np.array([get_inputs(*(DC1Lambda)), get_inputs(*(DC2Lambda))]).transpose()\n",
    "fitX = X\n",
    "fitY = counts\n",
    "\n",
    "reg = LinearRegression(fit_intercept = False).fit(fitX, fitY)\n",
    "reg.coef_"
   ]
  },
  {
   "cell_type": "markdown",
   "metadata": {},
   "source": [
    "Running this multiple times we can see just how inaccurate the model is for Radon 222. We will have to find some more information to add to the model or we may have had a miscalculation previously."
   ]
  },
  {
   "cell_type": "code",
   "execution_count": 17,
   "metadata": {},
   "outputs": [
    {
     "name": "stdout",
     "output_type": "stream",
     "text": [
      "The mean for Rn222 is 79263.03249460793 with standard deviation 139272.05335450583\n",
      "The mean for Rn220 is 1374.7289711643107 with standard deviation 43.46013784665399\n"
     ]
    }
   ],
   "source": [
    "Rn222 = []\n",
    "Rn220 = []\n",
    "\n",
    "for _ in range(10):\n",
    "    counts = expcount(n,1/DC1Lambda) + expcount(m,1/DC2Lambda)\n",
    "    reg = LinearRegression(fit_intercept = False).fit(fitX, counts)\n",
    "    Rn222.append(reg.coef_[0])\n",
    "    Rn220.append(reg.coef_[1])\n",
    "    \n",
    "print(\"The mean for Rn222 is {0} with standard deviation {1}\".format(np.mean(Rn222), np.std(Rn222)))\n",
    "print(\"The mean for Rn220 is {0} with standard deviation {1}\".format(np.mean(Rn220), np.std(Rn220)))"
   ]
  }
 ],
 "metadata": {
  "kernelspec": {
   "display_name": "Python 3",
   "language": "python",
   "name": "python3"
  },
  "language_info": {
   "codemirror_mode": {
    "name": "ipython",
    "version": 3
   },
   "file_extension": ".py",
   "mimetype": "text/x-python",
   "name": "python",
   "nbconvert_exporter": "python",
   "pygments_lexer": "ipython3",
   "version": "3.7.3"
  }
 },
 "nbformat": 4,
 "nbformat_minor": 2
}
