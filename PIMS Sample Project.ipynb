{
 "cells": [
  {
   "cell_type": "code",
   "execution_count": 30,
   "metadata": {},
   "outputs": [
    {
     "name": "stdout",
     "output_type": "stream",
     "text": [
      "Libraries imported\n"
     ]
    }
   ],
   "source": [
    "import numpy as np\n",
    "import requests\n",
    "import pandas as pd\n",
    "import plotly.express as px\n",
    "\n",
    "print('Libraries imported')\n"
   ]
  },
  {
   "cell_type": "code",
   "execution_count": 5,
   "metadata": {},
   "outputs": [],
   "source": [
    "url = \"https://health.canada.ca/apps/open-data/radon-concentrations/radon-concentration.csv\"\n",
    "\n",
    "dfs = pd.read_csv(url)\n",
    "\n",
    "dfs.head()\n",
    "\n",
    "response = requests.get(url)"
   ]
  },
  {
   "cell_type": "code",
   "execution_count": 28,
   "metadata": {},
   "outputs": [],
   "source": [
    "dfs = pd.read_csv(url)\n",
    "\n",
    "dfs.columns\n",
    "\n",
    "dfs = dfs.drop(['ResultNumber','HealthRegionCode2007','ForwardSortationAreaCodes','Unnamed: 7', 'Unnamed: 8', 'Unnamed: 9', 'Unnamed: 10', 'Unnamed: 11',\n",
    "       'Unnamed: 12'],axis = 1)\n"
   ]
  },
  {
   "cell_type": "code",
   "execution_count": 29,
   "metadata": {},
   "outputs": [
    {
     "data": {
      "text/html": [
       "<div>\n",
       "<style scoped>\n",
       "    .dataframe tbody tr th:only-of-type {\n",
       "        vertical-align: middle;\n",
       "    }\n",
       "\n",
       "    .dataframe tbody tr th {\n",
       "        vertical-align: top;\n",
       "    }\n",
       "\n",
       "    .dataframe thead th {\n",
       "        text-align: right;\n",
       "    }\n",
       "</style>\n",
       "<table border=\"1\" class=\"dataframe\">\n",
       "  <thead>\n",
       "    <tr style=\"text-align: right;\">\n",
       "      <th></th>\n",
       "      <th>ProvinceTerritory</th>\n",
       "      <th>Health Region2007</th>\n",
       "      <th>TestDurationInDays</th>\n",
       "      <th>AverageRadonConcentrationInBqPerM3</th>\n",
       "    </tr>\n",
       "  </thead>\n",
       "  <tbody>\n",
       "    <tr>\n",
       "      <th>0</th>\n",
       "      <td>NL</td>\n",
       "      <td>Eastern Regional Integrated Health Authority</td>\n",
       "      <td>127.0</td>\n",
       "      <td>20</td>\n",
       "    </tr>\n",
       "    <tr>\n",
       "      <th>1</th>\n",
       "      <td>NL</td>\n",
       "      <td>Eastern Regional Integrated Health Authority</td>\n",
       "      <td>108.0</td>\n",
       "      <td>36</td>\n",
       "    </tr>\n",
       "    <tr>\n",
       "      <th>2</th>\n",
       "      <td>NL</td>\n",
       "      <td>Eastern Regional Integrated Health Authority</td>\n",
       "      <td>91.0</td>\n",
       "      <td>&lt;15</td>\n",
       "    </tr>\n",
       "    <tr>\n",
       "      <th>3</th>\n",
       "      <td>NL</td>\n",
       "      <td>Eastern Regional Integrated Health Authority</td>\n",
       "      <td>91.0</td>\n",
       "      <td>31</td>\n",
       "    </tr>\n",
       "    <tr>\n",
       "      <th>4</th>\n",
       "      <td>NL</td>\n",
       "      <td>Eastern Regional Integrated Health Authority</td>\n",
       "      <td>98.0</td>\n",
       "      <td>26</td>\n",
       "    </tr>\n",
       "  </tbody>\n",
       "</table>\n",
       "</div>"
      ],
      "text/plain": [
       "  ProvinceTerritory                             Health Region2007  \\\n",
       "0                NL  Eastern Regional Integrated Health Authority   \n",
       "1                NL  Eastern Regional Integrated Health Authority   \n",
       "2                NL  Eastern Regional Integrated Health Authority   \n",
       "3                NL  Eastern Regional Integrated Health Authority   \n",
       "4                NL  Eastern Regional Integrated Health Authority   \n",
       "\n",
       "   TestDurationInDays AverageRadonConcentrationInBqPerM3  \n",
       "0               127.0                                 20  \n",
       "1               108.0                                 36  \n",
       "2                91.0                                <15  \n",
       "3                91.0                                 31  \n",
       "4                98.0                                 26  "
      ]
     },
     "execution_count": 29,
     "metadata": {},
     "output_type": "execute_result"
    }
   ],
   "source": [
    "dfs.head()"
   ]
  },
  {
   "cell_type": "code",
   "execution_count": 31,
   "metadata": {},
   "outputs": [
    {
     "data": {
      "text/html": [
       "<div>\n",
       "<style scoped>\n",
       "    .dataframe tbody tr th:only-of-type {\n",
       "        vertical-align: middle;\n",
       "    }\n",
       "\n",
       "    .dataframe tbody tr th {\n",
       "        vertical-align: top;\n",
       "    }\n",
       "\n",
       "    .dataframe thead th {\n",
       "        text-align: right;\n",
       "    }\n",
       "</style>\n",
       "<table border=\"1\" class=\"dataframe\">\n",
       "  <thead>\n",
       "    <tr style=\"text-align: right;\">\n",
       "      <th></th>\n",
       "      <th>TestDurationInDays</th>\n",
       "    </tr>\n",
       "  </thead>\n",
       "  <tbody>\n",
       "    <tr>\n",
       "      <th>count</th>\n",
       "      <td>13814.000000</td>\n",
       "    </tr>\n",
       "    <tr>\n",
       "      <th>mean</th>\n",
       "      <td>96.680469</td>\n",
       "    </tr>\n",
       "    <tr>\n",
       "      <th>std</th>\n",
       "      <td>14.612814</td>\n",
       "    </tr>\n",
       "    <tr>\n",
       "      <th>min</th>\n",
       "      <td>30.000000</td>\n",
       "    </tr>\n",
       "    <tr>\n",
       "      <th>25%</th>\n",
       "      <td>91.000000</td>\n",
       "    </tr>\n",
       "    <tr>\n",
       "      <th>50%</th>\n",
       "      <td>92.000000</td>\n",
       "    </tr>\n",
       "    <tr>\n",
       "      <th>75%</th>\n",
       "      <td>98.000000</td>\n",
       "    </tr>\n",
       "    <tr>\n",
       "      <th>max</th>\n",
       "      <td>456.000000</td>\n",
       "    </tr>\n",
       "  </tbody>\n",
       "</table>\n",
       "</div>"
      ],
      "text/plain": [
       "       TestDurationInDays\n",
       "count        13814.000000\n",
       "mean            96.680469\n",
       "std             14.612814\n",
       "min             30.000000\n",
       "25%             91.000000\n",
       "50%             92.000000\n",
       "75%             98.000000\n",
       "max            456.000000"
      ]
     },
     "execution_count": 31,
     "metadata": {},
     "output_type": "execute_result"
    }
   ],
   "source": [
    "dfs.describe()"
   ]
  },
  {
   "cell_type": "code",
   "execution_count": 32,
   "metadata": {},
   "outputs": [
    {
     "data": {
      "text/plain": [
       "array(['20', '36', '<15', '31', '26', '33', '24', '30', '118', '323',\n",
       "       '122', '23', '25', '112', '128', '15', '32', '78', '29', '447',\n",
       "       '28', '17', '444', '42', '156', '93', '18', '140', '85', '87',\n",
       "       '88', '90', '96', '109', '67', '72', '86', '108', '91', '65', '97',\n",
       "       '21', '73', '40', '74', '59', '119', '16', '19', '27', '64', '120',\n",
       "       '171', '206', '83', '75', '102', '196', '99', '22', '69', '181',\n",
       "       '95', '270', '38', '92', '114', '218', '287', '56', '82', '157',\n",
       "       '688', '115', '142', '43', '1548', '37', '39', '68', '89', '105',\n",
       "       '144', '35', '49', '76', '125', '54', '117', '237', '111', '34',\n",
       "       '51', '61', '110', '143', '271', '164', '326', '613', '831', '70',\n",
       "       '150', '60', '104', '77', '161', '168', '362', '53', '63', '149',\n",
       "       '159', '160', '359', '176', '1386', '284', '660', '46', '62',\n",
       "       '116', '52', '281', '354', '141', '215', '387', '400', '628',\n",
       "       '103', '807', '401', '255', '162', '126', '137', '139', '221',\n",
       "       '264', '306', '343', '370', '524', '376', '397', '129', '167',\n",
       "       '135', '227', '66', '256', '127', '147', '209', '197', '315', '41',\n",
       "       '55', '71', '202', '145', '100', '634', '124', '136', '84', '80',\n",
       "       '146', '261', '415', '169', '132', '352', '166', '58', '248',\n",
       "       '101', '965', '185', '198', '113', '295', '232', '45', '50', '177',\n",
       "       '182', '207', '743', '94', '79', '81', '449', '230', '682', '796',\n",
       "       '394', '194', '1307', '188', '175', '165', '131', '300', '320',\n",
       "       '155', '183', '2448', '537', '325', '1376', '154', '170', '172',\n",
       "       '216', '455', '106', '644', '279', '575', '224', '130', '1341',\n",
       "       '195', '2692', '121', '203', '569', '875', '1695', '267', '1767',\n",
       "       '178', '288', '425', '173', '190', '277', '1077', '290', '212',\n",
       "       '219', '349', '153', '222', '451', '587', '566', '407', '750',\n",
       "       '498', '393', '294', '779', '409', '1309', '268', '385', '430',\n",
       "       '427', '1147', '877', '361', '386', '226', '327', '44', '265',\n",
       "       '241', '174', '163', '239', '205', '192', '231', '123', '151',\n",
       "       '201', '363', '629', '403', '213', '1162', '992', '686', '48',\n",
       "       '225', '293', '309', '1029', '867', '998', '667', '238', '649',\n",
       "       '308', '330', '251', '193', '374', '204', '236', '357', '252',\n",
       "       '392', '599', '418', '1346', '366', '606', '985', '303', '107',\n",
       "       '180', '669', '250', '47', '282', '383', '555', '414', '263',\n",
       "       '428', '292', '528', '1330', '187', '520', '1035', '1291', '186',\n",
       "       '152', '503', '1312', '302', '560', '5590', '452', '510', '642',\n",
       "       '1265', '1412', '1481', '1944', '138', '947', '516', '478', '1047',\n",
       "       '184', '1702', '273', '705', '964', '431', '446', '324', '463',\n",
       "       '2466', '691', '1012', '497', '384', '433', '697', '753', '1172',\n",
       "       '134', '1096', '98', '217', '751', '297', '399', '647', '994',\n",
       "       '346', '713', '336', '576', '214', '439', '443', '543', '557',\n",
       "       '585', '679', '720', '57', '158', '200', '223', '246', '258',\n",
       "       '274', '355', '377', '457', '466', '479', '619', '963', '1458',\n",
       "       '348', '189', '245', '283', '312', '605', '908', '243', '381',\n",
       "       '372', '632', '408', '734', '774', '199', '369', '299', '298',\n",
       "       '445', '450', '481', '133', '787', '338', '530', '2013', '677',\n",
       "       '148', '864', '1331', '314', '412', '278', '711', '622', '262',\n",
       "       '917', '313', '529', '249', '276', '208', '234', '191', '492',\n",
       "       '247', '410', '242', '331', '254', '322', '570', '2923', '727',\n",
       "       '661', '257', '429', '328', '911', '817', '871', '468', '260',\n",
       "       '505', '461', '179', '259', '542', '979', '548', '321', '472',\n",
       "       '558', '1607', '301', '365', '757', '534', '311', '364', '210',\n",
       "       '228', '1023', '440', '345', '517', '637', '296', '340', '436',\n",
       "       '220', '1246', '483', '1111', '304', '416', '434', '487', '291',\n",
       "       '2741', '402', '482', '280', '515', '266', '240', '438', '285',\n",
       "       '454', '641', '814', '229', '506', '876', '489', '741', '791',\n",
       "       '891', '211', '563', '379', '235', '380', '786', '233', '334',\n",
       "       '650', '398', '253', '307', '289', '698', '244', '390', '762',\n",
       "       '432', '317', '681', '941', '2307', '344', '378', '706', '500',\n",
       "       '460', '358', '493', '749', '625', '507', '553', '371', '1317',\n",
       "       '389', '756', '594', '859', '973', '5657', '275', '464', '873',\n",
       "       '272', '356', '453', '1211', '367', '848', '339', '731', '406',\n",
       "       '360', '335', '269', '316', '562', '766', '767', '1296', '286',\n",
       "       '508', '421', '419', '636', '546', '368', '337', '494', '545',\n",
       "       '435', '1583', '405', '614', '810', '1226', '305', '351', '353',\n",
       "       '518', '600', '525', '411', '1076', '1254', '413', '869', '417',\n",
       "       '578', '597', '623', '730', '819', '838', '1060', '1175', '1903',\n",
       "       '467', '853', '702', '915', '643', '333', '382', '539', '725',\n",
       "       '523', '469', '572', '1122', '420', '319', '1062', '480', '456',\n",
       "       '975', '904', '1718', '943', '1373', '342', '424', '318', '350',\n",
       "       '755', '2165', '547', '659', '310', '426', '514', '833', '395',\n",
       "       '602', '719', '601', '581', '826', '552', '1391', '332', '1323',\n",
       "       '373', '2941', '668', '784', '1772', '486', '780', '722', '633',\n",
       "       '532', '1019', '1410', '391', '621', '886', '847', '490', '448',\n",
       "       '496', '729', '845', '509', '816', '894', '422', '573', '640',\n",
       "       '695', '747', '825', '846', '854', '1009', '1375', '1530', '1623',\n",
       "       '2281', '2357', '924', nan], dtype=object)"
      ]
     },
     "execution_count": 32,
     "metadata": {},
     "output_type": "execute_result"
    }
   ],
   "source": [
    "dfs[\"AverageRadonConcentrationInBqPerM3\"].unique()"
   ]
  },
  {
   "cell_type": "code",
   "execution_count": 41,
   "metadata": {},
   "outputs": [],
   "source": [
    "for badLabel in ['<15']:\n",
    "    dfs = dfs[dfs[\"AverageRadonConcentrationInBqPerM3\"] != badLabel]\n",
    "\n",
    "dfs = dfs[dfs[\"AverageRadonConcentrationInBqPerM3\"].notnull()]\n",
    "dfs[\"AverageRadonConcentrationInBqPerM3\"].unique()\n",
    "\n",
    "dfs['AverageRadonConcentrationInBqPerM3'] = dfs['AverageRadonConcentrationInBqPerM3'].astype(int)"
   ]
  },
  {
   "cell_type": "code",
   "execution_count": 46,
   "metadata": {},
   "outputs": [
    {
     "data": {
      "text/html": [
       "<div>\n",
       "<style scoped>\n",
       "    .dataframe tbody tr th:only-of-type {\n",
       "        vertical-align: middle;\n",
       "    }\n",
       "\n",
       "    .dataframe tbody tr th {\n",
       "        vertical-align: top;\n",
       "    }\n",
       "\n",
       "    .dataframe thead tr th {\n",
       "        text-align: left;\n",
       "    }\n",
       "\n",
       "    .dataframe thead tr:last-of-type th {\n",
       "        text-align: right;\n",
       "    }\n",
       "</style>\n",
       "<table border=\"1\" class=\"dataframe\">\n",
       "  <thead>\n",
       "    <tr>\n",
       "      <th></th>\n",
       "      <th colspan=\"8\" halign=\"left\">TestDurationInDays</th>\n",
       "      <th colspan=\"8\" halign=\"left\">AverageRadonConcentrationInBqPerM3</th>\n",
       "    </tr>\n",
       "    <tr>\n",
       "      <th></th>\n",
       "      <th>count</th>\n",
       "      <th>mean</th>\n",
       "      <th>std</th>\n",
       "      <th>min</th>\n",
       "      <th>25%</th>\n",
       "      <th>50%</th>\n",
       "      <th>75%</th>\n",
       "      <th>max</th>\n",
       "      <th>count</th>\n",
       "      <th>mean</th>\n",
       "      <th>std</th>\n",
       "      <th>min</th>\n",
       "      <th>25%</th>\n",
       "      <th>50%</th>\n",
       "      <th>75%</th>\n",
       "      <th>max</th>\n",
       "    </tr>\n",
       "    <tr>\n",
       "      <th>ProvinceTerritory</th>\n",
       "      <th></th>\n",
       "      <th></th>\n",
       "      <th></th>\n",
       "      <th></th>\n",
       "      <th></th>\n",
       "      <th></th>\n",
       "      <th></th>\n",
       "      <th></th>\n",
       "      <th></th>\n",
       "      <th></th>\n",
       "      <th></th>\n",
       "      <th></th>\n",
       "      <th></th>\n",
       "      <th></th>\n",
       "      <th></th>\n",
       "      <th></th>\n",
       "    </tr>\n",
       "  </thead>\n",
       "  <tbody>\n",
       "    <tr>\n",
       "      <th>AB</th>\n",
       "      <td>1077.0</td>\n",
       "      <td>96.747447</td>\n",
       "      <td>13.298870</td>\n",
       "      <td>45.0</td>\n",
       "      <td>91.0</td>\n",
       "      <td>92.0</td>\n",
       "      <td>98.00</td>\n",
       "      <td>226.0</td>\n",
       "      <td>1077.0</td>\n",
       "      <td>96.046425</td>\n",
       "      <td>95.152537</td>\n",
       "      <td>15.0</td>\n",
       "      <td>37.00</td>\n",
       "      <td>75.0</td>\n",
       "      <td>121.00</td>\n",
       "      <td>1391.0</td>\n",
       "    </tr>\n",
       "    <tr>\n",
       "      <th>BC</th>\n",
       "      <td>1162.0</td>\n",
       "      <td>95.119621</td>\n",
       "      <td>12.749031</td>\n",
       "      <td>58.0</td>\n",
       "      <td>91.0</td>\n",
       "      <td>92.0</td>\n",
       "      <td>95.00</td>\n",
       "      <td>369.0</td>\n",
       "      <td>1162.0</td>\n",
       "      <td>102.542169</td>\n",
       "      <td>167.349146</td>\n",
       "      <td>15.0</td>\n",
       "      <td>25.00</td>\n",
       "      <td>55.0</td>\n",
       "      <td>110.00</td>\n",
       "      <td>2941.0</td>\n",
       "    </tr>\n",
       "    <tr>\n",
       "      <th>MB</th>\n",
       "      <td>1102.0</td>\n",
       "      <td>95.242287</td>\n",
       "      <td>11.656463</td>\n",
       "      <td>57.0</td>\n",
       "      <td>91.0</td>\n",
       "      <td>92.0</td>\n",
       "      <td>96.00</td>\n",
       "      <td>217.0</td>\n",
       "      <td>1102.0</td>\n",
       "      <td>160.348457</td>\n",
       "      <td>177.987718</td>\n",
       "      <td>15.0</td>\n",
       "      <td>55.00</td>\n",
       "      <td>110.5</td>\n",
       "      <td>203.00</td>\n",
       "      <td>1903.0</td>\n",
       "    </tr>\n",
       "    <tr>\n",
       "      <th>NB</th>\n",
       "      <td>728.0</td>\n",
       "      <td>96.888736</td>\n",
       "      <td>16.535651</td>\n",
       "      <td>48.0</td>\n",
       "      <td>91.0</td>\n",
       "      <td>92.0</td>\n",
       "      <td>98.00</td>\n",
       "      <td>386.0</td>\n",
       "      <td>728.0</td>\n",
       "      <td>203.230769</td>\n",
       "      <td>336.061973</td>\n",
       "      <td>15.0</td>\n",
       "      <td>37.00</td>\n",
       "      <td>104.0</td>\n",
       "      <td>227.00</td>\n",
       "      <td>5590.0</td>\n",
       "    </tr>\n",
       "    <tr>\n",
       "      <th>NL</th>\n",
       "      <td>479.0</td>\n",
       "      <td>97.348643</td>\n",
       "      <td>12.766717</td>\n",
       "      <td>61.0</td>\n",
       "      <td>91.0</td>\n",
       "      <td>92.0</td>\n",
       "      <td>100.00</td>\n",
       "      <td>189.0</td>\n",
       "      <td>479.0</td>\n",
       "      <td>86.991649</td>\n",
       "      <td>142.047475</td>\n",
       "      <td>15.0</td>\n",
       "      <td>22.00</td>\n",
       "      <td>35.0</td>\n",
       "      <td>97.00</td>\n",
       "      <td>1548.0</td>\n",
       "    </tr>\n",
       "    <tr>\n",
       "      <th>NS</th>\n",
       "      <td>428.0</td>\n",
       "      <td>97.623832</td>\n",
       "      <td>19.327235</td>\n",
       "      <td>53.0</td>\n",
       "      <td>91.0</td>\n",
       "      <td>92.0</td>\n",
       "      <td>99.00</td>\n",
       "      <td>302.0</td>\n",
       "      <td>428.0</td>\n",
       "      <td>125.728972</td>\n",
       "      <td>265.850976</td>\n",
       "      <td>15.0</td>\n",
       "      <td>25.00</td>\n",
       "      <td>42.5</td>\n",
       "      <td>114.25</td>\n",
       "      <td>2692.0</td>\n",
       "    </tr>\n",
       "    <tr>\n",
       "      <th>NT</th>\n",
       "      <td>146.0</td>\n",
       "      <td>94.972603</td>\n",
       "      <td>9.637531</td>\n",
       "      <td>57.0</td>\n",
       "      <td>91.0</td>\n",
       "      <td>93.0</td>\n",
       "      <td>96.00</td>\n",
       "      <td>139.0</td>\n",
       "      <td>146.0</td>\n",
       "      <td>85.910959</td>\n",
       "      <td>101.656346</td>\n",
       "      <td>15.0</td>\n",
       "      <td>29.00</td>\n",
       "      <td>58.0</td>\n",
       "      <td>109.75</td>\n",
       "      <td>924.0</td>\n",
       "    </tr>\n",
       "    <tr>\n",
       "      <th>NU</th>\n",
       "      <td>11.0</td>\n",
       "      <td>94.545455</td>\n",
       "      <td>6.137811</td>\n",
       "      <td>91.0</td>\n",
       "      <td>92.0</td>\n",
       "      <td>92.0</td>\n",
       "      <td>94.00</td>\n",
       "      <td>112.0</td>\n",
       "      <td>11.0</td>\n",
       "      <td>24.545455</td>\n",
       "      <td>7.802098</td>\n",
       "      <td>15.0</td>\n",
       "      <td>20.00</td>\n",
       "      <td>23.0</td>\n",
       "      <td>26.00</td>\n",
       "      <td>41.0</td>\n",
       "    </tr>\n",
       "    <tr>\n",
       "      <th>ON</th>\n",
       "      <td>3292.0</td>\n",
       "      <td>97.154921</td>\n",
       "      <td>15.818507</td>\n",
       "      <td>30.0</td>\n",
       "      <td>91.0</td>\n",
       "      <td>92.0</td>\n",
       "      <td>98.00</td>\n",
       "      <td>381.0</td>\n",
       "      <td>3292.0</td>\n",
       "      <td>97.383961</td>\n",
       "      <td>160.787093</td>\n",
       "      <td>15.0</td>\n",
       "      <td>28.00</td>\n",
       "      <td>63.0</td>\n",
       "      <td>114.00</td>\n",
       "      <td>5657.0</td>\n",
       "    </tr>\n",
       "    <tr>\n",
       "      <th>PE</th>\n",
       "      <td>71.0</td>\n",
       "      <td>98.225352</td>\n",
       "      <td>12.474199</td>\n",
       "      <td>86.0</td>\n",
       "      <td>91.0</td>\n",
       "      <td>92.0</td>\n",
       "      <td>101.00</td>\n",
       "      <td>154.0</td>\n",
       "      <td>71.0</td>\n",
       "      <td>68.070423</td>\n",
       "      <td>76.382183</td>\n",
       "      <td>15.0</td>\n",
       "      <td>22.50</td>\n",
       "      <td>31.0</td>\n",
       "      <td>87.00</td>\n",
       "      <td>415.0</td>\n",
       "    </tr>\n",
       "    <tr>\n",
       "      <th>QC</th>\n",
       "      <td>1348.0</td>\n",
       "      <td>97.441395</td>\n",
       "      <td>13.654512</td>\n",
       "      <td>51.0</td>\n",
       "      <td>91.0</td>\n",
       "      <td>92.0</td>\n",
       "      <td>98.00</td>\n",
       "      <td>210.0</td>\n",
       "      <td>1348.0</td>\n",
       "      <td>104.034866</td>\n",
       "      <td>161.933688</td>\n",
       "      <td>15.0</td>\n",
       "      <td>26.00</td>\n",
       "      <td>55.0</td>\n",
       "      <td>121.00</td>\n",
       "      <td>2923.0</td>\n",
       "    </tr>\n",
       "    <tr>\n",
       "      <th>SK</th>\n",
       "      <td>1169.0</td>\n",
       "      <td>95.378956</td>\n",
       "      <td>10.226256</td>\n",
       "      <td>35.0</td>\n",
       "      <td>91.0</td>\n",
       "      <td>92.0</td>\n",
       "      <td>96.00</td>\n",
       "      <td>191.0</td>\n",
       "      <td>1169.0</td>\n",
       "      <td>130.225834</td>\n",
       "      <td>137.278958</td>\n",
       "      <td>15.0</td>\n",
       "      <td>60.00</td>\n",
       "      <td>100.0</td>\n",
       "      <td>159.00</td>\n",
       "      <td>2165.0</td>\n",
       "    </tr>\n",
       "    <tr>\n",
       "      <th>YT</th>\n",
       "      <td>216.0</td>\n",
       "      <td>94.939815</td>\n",
       "      <td>12.850883</td>\n",
       "      <td>32.0</td>\n",
       "      <td>91.0</td>\n",
       "      <td>92.0</td>\n",
       "      <td>94.25</td>\n",
       "      <td>215.0</td>\n",
       "      <td>216.0</td>\n",
       "      <td>182.027778</td>\n",
       "      <td>313.686081</td>\n",
       "      <td>15.0</td>\n",
       "      <td>43.75</td>\n",
       "      <td>92.5</td>\n",
       "      <td>165.75</td>\n",
       "      <td>2357.0</td>\n",
       "    </tr>\n",
       "  </tbody>\n",
       "</table>\n",
       "</div>"
      ],
      "text/plain": [
       "                  TestDurationInDays                                          \\\n",
       "                               count       mean        std   min   25%   50%   \n",
       "ProvinceTerritory                                                              \n",
       "AB                            1077.0  96.747447  13.298870  45.0  91.0  92.0   \n",
       "BC                            1162.0  95.119621  12.749031  58.0  91.0  92.0   \n",
       "MB                            1102.0  95.242287  11.656463  57.0  91.0  92.0   \n",
       "NB                             728.0  96.888736  16.535651  48.0  91.0  92.0   \n",
       "NL                             479.0  97.348643  12.766717  61.0  91.0  92.0   \n",
       "NS                             428.0  97.623832  19.327235  53.0  91.0  92.0   \n",
       "NT                             146.0  94.972603   9.637531  57.0  91.0  93.0   \n",
       "NU                              11.0  94.545455   6.137811  91.0  92.0  92.0   \n",
       "ON                            3292.0  97.154921  15.818507  30.0  91.0  92.0   \n",
       "PE                              71.0  98.225352  12.474199  86.0  91.0  92.0   \n",
       "QC                            1348.0  97.441395  13.654512  51.0  91.0  92.0   \n",
       "SK                            1169.0  95.378956  10.226256  35.0  91.0  92.0   \n",
       "YT                             216.0  94.939815  12.850883  32.0  91.0  92.0   \n",
       "\n",
       "                                 AverageRadonConcentrationInBqPerM3  \\\n",
       "                      75%    max                              count   \n",
       "ProvinceTerritory                                                     \n",
       "AB                  98.00  226.0                             1077.0   \n",
       "BC                  95.00  369.0                             1162.0   \n",
       "MB                  96.00  217.0                             1102.0   \n",
       "NB                  98.00  386.0                              728.0   \n",
       "NL                 100.00  189.0                              479.0   \n",
       "NS                  99.00  302.0                              428.0   \n",
       "NT                  96.00  139.0                              146.0   \n",
       "NU                  94.00  112.0                               11.0   \n",
       "ON                  98.00  381.0                             3292.0   \n",
       "PE                 101.00  154.0                               71.0   \n",
       "QC                  98.00  210.0                             1348.0   \n",
       "SK                  96.00  191.0                             1169.0   \n",
       "YT                  94.25  215.0                              216.0   \n",
       "\n",
       "                                                                               \n",
       "                         mean         std   min    25%    50%     75%     max  \n",
       "ProvinceTerritory                                                              \n",
       "AB                  96.046425   95.152537  15.0  37.00   75.0  121.00  1391.0  \n",
       "BC                 102.542169  167.349146  15.0  25.00   55.0  110.00  2941.0  \n",
       "MB                 160.348457  177.987718  15.0  55.00  110.5  203.00  1903.0  \n",
       "NB                 203.230769  336.061973  15.0  37.00  104.0  227.00  5590.0  \n",
       "NL                  86.991649  142.047475  15.0  22.00   35.0   97.00  1548.0  \n",
       "NS                 125.728972  265.850976  15.0  25.00   42.5  114.25  2692.0  \n",
       "NT                  85.910959  101.656346  15.0  29.00   58.0  109.75   924.0  \n",
       "NU                  24.545455    7.802098  15.0  20.00   23.0   26.00    41.0  \n",
       "ON                  97.383961  160.787093  15.0  28.00   63.0  114.00  5657.0  \n",
       "PE                  68.070423   76.382183  15.0  22.50   31.0   87.00   415.0  \n",
       "QC                 104.034866  161.933688  15.0  26.00   55.0  121.00  2923.0  \n",
       "SK                 130.225834  137.278958  15.0  60.00  100.0  159.00  2165.0  \n",
       "YT                 182.027778  313.686081  15.0  43.75   92.5  165.75  2357.0  "
      ]
     },
     "execution_count": 46,
     "metadata": {},
     "output_type": "execute_result"
    }
   ],
   "source": [
    "dfsbyPT = dfs.groupby('ProvinceTerritory')\n",
    "dfsbyPT.describe()"
   ]
  },
  {
   "cell_type": "code",
   "execution_count": 47,
   "metadata": {},
   "outputs": [
    {
     "data": {
      "text/html": [
       "<div>\n",
       "<style scoped>\n",
       "    .dataframe tbody tr th:only-of-type {\n",
       "        vertical-align: middle;\n",
       "    }\n",
       "\n",
       "    .dataframe tbody tr th {\n",
       "        vertical-align: top;\n",
       "    }\n",
       "\n",
       "    .dataframe thead th {\n",
       "        text-align: right;\n",
       "    }\n",
       "</style>\n",
       "<table border=\"1\" class=\"dataframe\">\n",
       "  <thead>\n",
       "    <tr style=\"text-align: right;\">\n",
       "      <th></th>\n",
       "      <th>PT</th>\n",
       "      <th>means</th>\n",
       "    </tr>\n",
       "  </thead>\n",
       "  <tbody>\n",
       "    <tr>\n",
       "      <th>0</th>\n",
       "      <td>Alberta</td>\n",
       "      <td>96.046</td>\n",
       "    </tr>\n",
       "    <tr>\n",
       "      <th>1</th>\n",
       "      <td>British Columbia</td>\n",
       "      <td>102.542</td>\n",
       "    </tr>\n",
       "    <tr>\n",
       "      <th>2</th>\n",
       "      <td>Manitoba</td>\n",
       "      <td>160.348</td>\n",
       "    </tr>\n",
       "    <tr>\n",
       "      <th>3</th>\n",
       "      <td>New Brunswick</td>\n",
       "      <td>203.231</td>\n",
       "    </tr>\n",
       "    <tr>\n",
       "      <th>4</th>\n",
       "      <td>Newfoundland and Labrador</td>\n",
       "      <td>86.992</td>\n",
       "    </tr>\n",
       "    <tr>\n",
       "      <th>5</th>\n",
       "      <td>Nova Scotia</td>\n",
       "      <td>125.729</td>\n",
       "    </tr>\n",
       "    <tr>\n",
       "      <th>6</th>\n",
       "      <td>Northwest Territories</td>\n",
       "      <td>85.911</td>\n",
       "    </tr>\n",
       "    <tr>\n",
       "      <th>7</th>\n",
       "      <td>Nunavet</td>\n",
       "      <td>24.545</td>\n",
       "    </tr>\n",
       "    <tr>\n",
       "      <th>8</th>\n",
       "      <td>Ontario</td>\n",
       "      <td>97.384</td>\n",
       "    </tr>\n",
       "    <tr>\n",
       "      <th>9</th>\n",
       "      <td>Prince Edward Island</td>\n",
       "      <td>68.070</td>\n",
       "    </tr>\n",
       "    <tr>\n",
       "      <th>10</th>\n",
       "      <td>Quebec</td>\n",
       "      <td>104.035</td>\n",
       "    </tr>\n",
       "    <tr>\n",
       "      <th>11</th>\n",
       "      <td>Saskatchewan</td>\n",
       "      <td>130.226</td>\n",
       "    </tr>\n",
       "    <tr>\n",
       "      <th>12</th>\n",
       "      <td>Yukon</td>\n",
       "      <td>182.028</td>\n",
       "    </tr>\n",
       "  </tbody>\n",
       "</table>\n",
       "</div>"
      ],
      "text/plain": [
       "                           PT    means\n",
       "0                     Alberta   96.046\n",
       "1            British Columbia  102.542\n",
       "2                    Manitoba  160.348\n",
       "3               New Brunswick  203.231\n",
       "4   Newfoundland and Labrador   86.992\n",
       "5                 Nova Scotia  125.729\n",
       "6       Northwest Territories   85.911\n",
       "7                     Nunavet   24.545\n",
       "8                     Ontario   97.384\n",
       "9        Prince Edward Island   68.070\n",
       "10                     Quebec  104.035\n",
       "11               Saskatchewan  130.226\n",
       "12                      Yukon  182.028"
      ]
     },
     "execution_count": 47,
     "metadata": {},
     "output_type": "execute_result"
    }
   ],
   "source": [
    "s1 = pd.Series([\"Alberta\", \"British Columbia\", \"Manitoba\", \"New Brunswick\", \"Newfoundland and Labrador\", \"Nova Scotia\", \"Northwest Territories\",\n",
    "               \"Nunavet\", \"Ontario\", \"Prince Edward Island\", \"Quebec\", \"Saskatchewan\", \"Yukon\"])\n",
    "\n",
    "s2 = pd.Series([96.046, 102.542,160.348,203.231,86.992,125.729,85.911,24.545,97.384,68.070,104.035,130.226,182.028])\n",
    "\n",
    "d1 = pd.DataFrame({'PT': s1, 'means': s2})\n",
    "d1"
   ]
  },
  {
   "cell_type": "code",
   "execution_count": 59,
   "metadata": {},
   "outputs": [
    {
     "ename": "SyntaxError",
     "evalue": "keyword argument repeated (<ipython-input-59-abe6c5c351a3>, line 6)",
     "output_type": "error",
     "traceback": [
      "\u001b[0;36m  File \u001b[0;32m\"<ipython-input-59-abe6c5c351a3>\"\u001b[0;36m, line \u001b[0;32m6\u001b[0m\n\u001b[0;31m    locations = \"Canada\",\u001b[0m\n\u001b[0m    ^\u001b[0m\n\u001b[0;31mSyntaxError\u001b[0m\u001b[0;31m:\u001b[0m keyword argument repeated\n"
     ]
    }
   ],
   "source": [
    "import plotly.express as px  # Be sure to import express\n",
    "fig = px.choropleth(d1,  # Input Pandas DataFrame\n",
    "                    locations=\"PT\",  # DataFrame column with locations\n",
    "                    color=\"means\",  # DataFrame column with color values\n",
    "                    hover_name=\"PT\", # DataFrame column hover info\n",
    "                    locations = \"Canada\",\n",
    "                    locationmode = 'country names') # Set to plot as US States\n",
    "fig.update_layout(\n",
    "    title_text = 'State Rankings', # Create a Title\n",
    "    geo_scope='canada',  # Plot only the USA instead of globe\n",
    ")\n",
    "fig.show()  # Output the plot to the screen"
   ]
  },
  {
   "cell_type": "code",
   "execution_count": 50,
   "metadata": {},
   "outputs": [
    {
     "data": {
      "image/png": "[encoded data removed]",
      "text/plain": [
       "<Figure size 432x288 with 1 Axes>"
      ]
     },
     "metadata": {
      "needs_background": "light"
     },
     "output_type": "display_data"
    },
    {
     "data": {
      "image/png": "[encoded data removed]",
      "text/plain": [
       "<Figure size 432x288 with 1 Axes>"
      ]
     },
     "metadata": {
      "needs_background": "light"
     },
     "output_type": "display_data"
    },
    {
     "data": {
      "image/png": "[encoded data removed]",
      "text/plain": [
       "<Figure size 432x288 with 1 Axes>"
      ]
     },
     "metadata": {
      "needs_background": "light"
     },
     "output_type": "display_data"
    },
    {
     "data": {
      "image/png": "[encoded data removed]",
      "text/plain": [
       "<Figure size 432x288 with 1 Axes>"
      ]
     },
     "metadata": {
      "needs_background": "light"
     },
     "output_type": "display_data"
    },
    {
     "data": {
      "image/png": "[encoded data removed]",
      "text/plain": [
       "<Figure size 432x288 with 1 Axes>"
      ]
     },
     "metadata": {
      "needs_background": "light"
     },
     "output_type": "display_data"
    },
    {
     "data": {
      "image/png": "[encoded data removed]",
      "text/plain": [
       "<Figure size 432x288 with 1 Axes>"
      ]
     },
     "metadata": {
      "needs_background": "light"
     },
     "output_type": "display_data"
    },
    {
     "data": {
      "image/png": "[encoded data removed]",
      "text/plain": [
       "<Figure size 432x288 with 1 Axes>"
      ]
     },
     "metadata": {
      "needs_background": "light"
     },
     "output_type": "display_data"
    },
    {
     "data": {
      "image/png": "[encoded data removed]",
      "text/plain": [
       "<Figure size 432x288 with 1 Axes>"
      ]
     },
     "metadata": {
      "needs_background": "light"
     },
     "output_type": "display_data"
    },
    {
     "data": {
      "image/png": "[encoded data removed]",
      "text/plain": [
       "<Figure size 432x288 with 1 Axes>"
      ]
     },
     "metadata": {
      "needs_background": "light"
     },
     "output_type": "display_data"
    },
    {
     "data": {
      "image/png": "[encoded data removed]",
      "text/plain": [
       "<Figure size 432x288 with 1 Axes>"
      ]
     },
     "metadata": {
      "needs_background": "light"
     },
     "output_type": "display_data"
    },
    {
     "data": {
      "image/png": "[encoded data removed]",
      "text/plain": [
       "<Figure size 432x288 with 1 Axes>"
      ]
     },
     "metadata": {
      "needs_background": "light"
     },
     "output_type": "display_data"
    },
    {
     "data": {
      "image/png": "[encoded data removed]",
      "text/plain": [
       "<Figure size 432x288 with 1 Axes>"
      ]
     },
     "metadata": {
      "needs_background": "light"
     },
     "output_type": "display_data"
    },
    {
     "data": {
      "image/png": "[encoded data removed]",
      "text/plain": [
       "<Figure size 432x288 with 1 Axes>"
      ]
     },
     "metadata": {
      "needs_background": "light"
     },
     "output_type": "display_data"
    }
   ],
   "source": [
    "import numpy as np\n",
    "import matplotlib as mpl\n",
    "import matplotlib.pyplot as plt\n",
    "\n",
    "for P in dfsbyPT.groups.keys():\n",
    "    fig, ax = plt.subplots()\n",
    "    ax.set_title('Radon Concentrations for '+P)\n",
    "    ax.set_xlabel('Radon Concentration in Bq/m^3')\n",
    "    ax.hist(dfsbyPT.get_group(P)['AverageRadonConcentrationInBqPerM3'],20)"
   ]
  },
  {
   "cell_type": "code",
   "execution_count": 70,
   "metadata": {},
   "outputs": [
    {
     "data": {
      "text/plain": [
       "[Text(0, 0, 'AB'),\n",
       " Text(0, 0, 'BC'),\n",
       " Text(0, 0, 'MB'),\n",
       " Text(0, 0, 'NB'),\n",
       " Text(0, 0, 'NL'),\n",
       " Text(0, 0, 'NS'),\n",
       " Text(0, 0, 'NT'),\n",
       " Text(0, 0, 'NU'),\n",
       " Text(0, 0, 'ON'),\n",
       " Text(0, 0, 'PE'),\n",
       " Text(0, 0, 'QC'),\n",
       " Text(0, 0, 'SK'),\n",
       " Text(0, 0, 'YT')]"
      ]
     },
     "execution_count": 70,
     "metadata": {},
     "output_type": "execute_result"
    },
    {
     "data": {
      "image/png": "[encoded data removed]",
      "text/plain": [
       "<Figure size 648x432 with 1 Axes>"
      ]
     },
     "metadata": {
      "needs_background": "light"
     },
     "output_type": "display_data"
    }
   ],
   "source": [
    "data_to_plot = []\n",
    "\n",
    "for P in dfsbyPT.groups.keys():\n",
    "    temp = np.log10(dfsbyPT.get_group(P)['AverageRadonConcentrationInBqPerM3'])\n",
    "    data_to_plot.append(temp)\n",
    "\n",
    "fig = plt.figure(1, figsize=(9, 6))\n",
    "ax = fig.add_subplot(111)\n",
    "bp = ax.boxplot(data_to_plot)\n",
    "ax.set_xticklabels( dfsbyPT.groups.keys(), fontsize = 8)\n",
    "#plt.xticks(np.arange(1,14), dfsbyPT.groups.keys())"
   ]
  },
  {
   "cell_type": "code",
   "execution_count": 58,
   "metadata": {},
   "outputs": [
    {
     "data": {
      "text/plain": [
       "10377     30\n",
       "10378    286\n",
       "10379    106\n",
       "10380    115\n",
       "10381     40\n",
       "        ... \n",
       "11504    105\n",
       "11505    148\n",
       "11506    164\n",
       "11507    174\n",
       "11508     25\n",
       "Name: AverageRadonConcentrationInBqPerM3, Length: 1077, dtype: int64"
      ]
     },
     "execution_count": 58,
     "metadata": {},
     "output_type": "execute_result"
    }
   ],
   "source": [
    "dfsbyPT.get_group(\"AB\")['AverageRadonConcentrationInBqPerM3']"
   ]
  },
  {
   "cell_type": "code",
   "execution_count": null,
   "metadata": {},
   "outputs": [],
   "source": []
  }
 ],
 "metadata": {
  "kernelspec": {
   "display_name": "Python 3",
   "language": "python",
   "name": "python3"
  },
  "language_info": {
   "codemirror_mode": {
    "name": "ipython",
    "version": 3
   },
   "file_extension": ".py",
   "mimetype": "text/x-python",
   "name": "python",
   "nbconvert_exporter": "python",
   "pygments_lexer": "ipython3",
   "version": "3.7.6"
  }
 },
 "nbformat": 4,
 "nbformat_minor": 4
}
